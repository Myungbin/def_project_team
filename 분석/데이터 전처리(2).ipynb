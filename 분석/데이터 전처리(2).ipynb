{
 "cells": [
  {
   "cell_type": "code",
   "execution_count": 2,
   "source": [
    "import pandas as pd\r\n",
    "test = pd.read_csv(\"날씨1.csv\",encoding='euc=kr')\r\n",
    "\r\n",
    "a=[]\r\n",
    "for i in range(0,605-180):\r\n",
    "    a.append(test.loc[i:i+180])\r\n",
    "b=[]\r\n",
    "for i in range(len(a)):\r\n",
    "    b.append(a[i].mean())\r\n",
    "    \r\n",
    "c=pd.DataFrame(b[0]).T\r\n",
    "for i in range(1,len(b)):\r\n",
    "    d=pd.DataFrame(b[i]).T\r\n",
    "    c = pd.concat([c,d])\r\n",
    "c\r\n",
    "\r\n",
    "# c.to_csv('w_pred.csv', encoding= 'cp949', index= False)\r\n",
    "\r\n",
    "# b = test['일시'].iloc[90:]\r\n",
    "\r\n",
    "# a = pd.read_csv('w_pred.csv', encoding= 'cp949')\r\n",
    "\r\n",
    "# c = pd.concat([a,b], axis= 1)\r\n",
    "\r\n",
    "# c.to_csv('w_pred.csv', encoding= 'cp949', index= False)"
   ],
   "outputs": [],
   "metadata": {}
  }
 ],
 "metadata": {
  "orig_nbformat": 4,
  "language_info": {
   "name": "python",
   "version": "3.8.8",
   "mimetype": "text/x-python",
   "codemirror_mode": {
    "name": "ipython",
    "version": 3
   },
   "pygments_lexer": "ipython3",
   "nbconvert_exporter": "python",
   "file_extension": ".py"
  },
  "kernelspec": {
   "name": "python3",
   "display_name": "Python 3.8.8 64-bit ('base': conda)"
  },
  "interpreter": {
   "hash": "b3ba2566441a7c06988d0923437866b63cedc61552a5af99d1f4fb67d367b25f"
  }
 },
 "nbformat": 4,
 "nbformat_minor": 2
}