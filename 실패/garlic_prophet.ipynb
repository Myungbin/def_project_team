{
 "cells": [
  {
   "cell_type": "code",
   "execution_count": null,
   "source": [
    "import numpy as np\r\n",
    "import pandas as pd\r\n",
    "import scipy as sp\r\n",
    "import seaborn as sns\r\n",
    "from scipy import sparse\r\n",
    "import mglearn\r\n",
    "import sklearn\r\n",
    "import matplotlib.pyplot as plt\r\n",
    "from sklearn.model_selection import train_test_split\r\n",
    "from matplotlib import font_manager, rc\r\n",
    "from scipy.stats import mode\r\n",
    "#!pip install mlxtend\r\n",
    "from mlxtend.plotting import scatterplotmatrix\r\n",
    "plt.rcParams['image.cmap'] = \"gray\"\r\n",
    "font_path = \"C:/Windows/Fonts/NGULIM.TTF\"\r\n",
    "font = font_manager.FontProperties(fname=font_path).get_name()\r\n",
    "rc('font', family=font)"
   ],
   "outputs": [],
   "metadata": {}
  }
 ],
 "metadata": {
  "orig_nbformat": 4,
  "language_info": {
   "name": "python"
  }
 },
 "nbformat": 4,
 "nbformat_minor": 2
}